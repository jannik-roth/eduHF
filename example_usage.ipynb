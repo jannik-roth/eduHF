{
 "cells": [
  {
   "cell_type": "code",
   "execution_count": 20,
   "id": "dfcf3f2c-329b-4efa-b69f-a582e71b9dbe",
   "metadata": {},
   "outputs": [],
   "source": [
    "import numpy as np\n",
    "import eduHF"
   ]
  },
  {
   "cell_type": "markdown",
   "id": "fe484975-c789-4be1-882e-3b537f67c97b",
   "metadata": {},
   "source": [
    "# 1. Define a Molecule\n",
    "\n",
    "A molecule is build out of different atoms. Atoms can be initiated by their respective atom type and the position in three-dimensional space (using atomic units of course)"
   ]
  },
  {
   "cell_type": "code",
   "execution_count": 21,
   "id": "d1087152-5b05-4e90-9871-1e6ac136430d",
   "metadata": {},
   "outputs": [],
   "source": [
    "H = eduHF.Atom('H', np.array([0.0, 0.0, 0.0]))\n",
    "F = eduHF.Atom('F', np.array([1.74, 0.0, 0.0]))"
   ]
  },
  {
   "cell_type": "markdown",
   "id": "c49765df-517b-4b6d-90b4-1369c396f62f",
   "metadata": {},
   "source": [
    "Next, we initiated the molecule with a list of all the atoms and its charge. A negative charge leads to an anion, a positive to a cation."
   ]
  },
  {
   "cell_type": "code",
   "execution_count": 22,
   "id": "3d28a6cc-7cd9-450e-a4fe-4aef062b09ef",
   "metadata": {},
   "outputs": [],
   "source": [
    "HF = eduHF.Molecule([H, F], charge=0)"
   ]
  },
  {
   "cell_type": "markdown",
   "id": "6e41744d-f6c2-4b47-89e0-b4b6bf2f5d0f",
   "metadata": {},
   "source": [
    "# 2. Define a Basis\n",
    "\n",
    "We first define a dictionary containing the atom types as keys. The items are a list of tuples. Every tuple represents a Slater Function. The tuples contain first the type of function (i.e., `1s`, or `2p`) and second the exponent (often called $\\zeta$ (zeta))"
   ]
  },
  {
   "cell_type": "code",
   "execution_count": 23,
   "id": "234e9217-ee20-4d68-b2ac-ca50943e33f7",
   "metadata": {},
   "outputs": [],
   "source": [
    "# taken from:  Robert F. Stewart, \"Small Gaussian Expansions of Slater‐Type Orbitals\", \n",
    "#              J. Chem. Phys. 52, 431-438 (1970) https://doi.org/10.1063/1.1672702 \n",
    "base = {'H' : [('1s', 1.24)],\n",
    "        'Li': [('1s', 2.69), ('2s', 0.75)],\n",
    "        'Be': [('1s', 3.68), ('2s', 1.10)],\n",
    "        'B' : [('1s', 4.68), ('2s', 1.45), ('2p', 1.45)],\n",
    "        'C' : [('1s', 5.67), ('2s', 1.72), ('2p', 1.72)],\n",
    "        'N' : [('1s', 6.67), ('2s', 1.95), ('2p', 1.95)],\n",
    "        'O' : [('1s', 7.66), ('2s', 2.25), ('2p', 2.25)],\n",
    "        'F' : [('1s', 8.65), ('2s', 2.55), ('2p', 2.55)],\n",
    "        }"
   ]
  },
  {
   "cell_type": "markdown",
   "id": "7b9c8fb2-0bf4-4ce0-bce5-42529f549a3a",
   "metadata": {},
   "source": [
    "Now we build the basis set and apply it to the molecule. Wenn initiating the `Basis` we need to state the number of Gaussian functions which expand a single Slater function (parameter `ng`)."
   ]
  },
  {
   "cell_type": "code",
   "execution_count": 24,
   "id": "5d4f0633-d2de-429d-8763-ce470ad9530a",
   "metadata": {},
   "outputs": [],
   "source": [
    "basisset = eduHF.BasisSet(base)\n",
    "basis = eduHF.Basis(HF, basisset, ng=3)"
   ]
  },
  {
   "cell_type": "markdown",
   "id": "c9cc0680-1bb7-4e82-aeaf-7c807b81ff83",
   "metadata": {},
   "source": [
    "# 3. Run the SCF\n",
    "\n",
    "Next we initate the SCF with the molecule and the basis and prepare the integrals."
   ]
  },
  {
   "cell_type": "code",
   "execution_count": 25,
   "id": "0c0fb458-3926-4408-ac70-5c97b05de849",
   "metadata": {},
   "outputs": [],
   "source": [
    "SCF = eduHF.SCF(HF, basis)\n",
    "SCF.prepare_integrals()"
   ]
  },
  {
   "cell_type": "markdown",
   "id": "8ecb5a91-c357-44d8-91d0-99fa5186ab49",
   "metadata": {},
   "source": [
    "When running the SCF, you can define the numver of max iterations, the convergence criteria and the type of convergence criteria."
   ]
  },
  {
   "cell_type": "code",
   "execution_count": 26,
   "id": "333effa4-de3c-4249-a98b-4dcd8336513d",
   "metadata": {},
   "outputs": [
    {
     "name": "stdout",
     "output_type": "stream",
     "text": [
      "############################################################\n",
      "                         SCF setup                          \n",
      "############################################################\n",
      "  max_iter          -> 15\n",
      "  convergence_crit  -> 1.000000e-06\n",
      "  convergence_type  -> com\n",
      "  diis              -> True\n",
      "     diis_size      -> 8\n",
      "                      Starting SCF now                      \n",
      "############################################################\n",
      "iteration  energy          error           converged \n",
      "0          -1.0295459e+02  1.4326840e+00   False     \n",
      "1          -1.0371508e+02  2.8082810e-01   False     \n",
      "2          -1.0372846e+02  3.0069603e-02   False     \n",
      "3          -1.0372860e+02  4.1918466e-03   False     \n",
      "4          -1.0372860e+02  2.7554141e-05   False     \n",
      "5          -1.0372860e+02  2.5381853e-07   True      \n",
      "############################################################\n",
      "                       SCF converged                        \n",
      "                     req. 5 iterations                      \n",
      "############################################################\n",
      "SCF energy    = -103.7285993083\n",
      "Nuc Repulsion = 5.1724137931\n",
      "Final Energy  = -98.5561855151\n"
     ]
    }
   ],
   "source": [
    "SCF.run_scf(max_iter = 15,\n",
    "            convergence_crit = 1e-6,\n",
    "            convergence_type = 'com',\n",
    "            diis = True,\n",
    "            diis_size = 8)"
   ]
  },
  {
   "attachments": {},
   "cell_type": "markdown",
   "id": "4134fec4-ca35-4a4f-bf90-9718110285e8",
   "metadata": {},
   "source": [
    "# 4. Geometry optimization\n",
    "\n",
    "We can optimize the geometry of any molecule. The derivative is evaluated analytically and gradient descent (`opt_method = 'gd'`) and BFGS (`opt_method = 'bfgs'`) is implemented."
   ]
  },
  {
   "cell_type": "code",
   "execution_count": 27,
   "id": "f7390aa4",
   "metadata": {},
   "outputs": [
    {
     "name": "stdout",
     "output_type": "stream",
     "text": [
      "############################################################\n",
      "                       Geom opt setup                       \n",
      "############################################################\n",
      "  max_iter_geom          -> 100\n",
      "  opt_method             -> bfgs\n",
      "  convergence_crit_geom  -> 1.000000e-05\n",
      "  convergence_type_geom  -> rms\n",
      "                   Starting geom opt now                    \n",
      "############################################################\n",
      "############################################################\n",
      "                      GEOM OPT ITER 0                       \n",
      "                      Current Geometry                      \n",
      "symbol     x          y          z         \n",
      "H          0.0000000  0.0000000  0.0000000 \n",
      "F          1.7400000  0.0000000  0.0000000 \n",
      "############################################################\n",
      "                      Current Gradient                      \n",
      "symbol     x          y          z         \n",
      "H          0.0545621  0.0000000  0.0000000 \n",
      "F          -0.0545621 0.0000000  0.0000000 \n",
      "Error in geom opt: 7.716253e-02\n",
      "############################################################\n",
      "                      GEOM OPT ITER 1                       \n",
      "                      Current Geometry                      \n",
      "symbol     x          y          z         \n",
      "H          -0.0545621 0.0000000  0.0000000 \n",
      "F          1.7945621  0.0000000  0.0000000 \n",
      "############################################################\n",
      "                      Current Gradient                      \n",
      "symbol     x          y          z         \n",
      "H          -0.0268602 0.0000000  0.0000000 \n",
      "F          0.0268602  0.0000000  0.0000000 \n",
      "Error in geom opt: 3.798601e-02\n",
      "############################################################\n",
      "                      GEOM OPT ITER 2                       \n",
      "                      Current Geometry                      \n",
      "symbol     x          y          z         \n",
      "H          -0.0365628 0.0000000  0.0000000 \n",
      "F          1.7765628  0.0000000  0.0000000 \n",
      "############################################################\n",
      "                      Current Gradient                      \n",
      "symbol     x          y          z         \n",
      "H          -0.0029920 0.0000000  0.0000000 \n",
      "F          0.0029920  0.0000000  0.0000000 \n",
      "Error in geom opt: 4.231349e-03\n",
      "############################################################\n",
      "                      GEOM OPT ITER 3                       \n",
      "                      Current Geometry                      \n",
      "symbol     x          y          z         \n",
      "H          -0.0343065 0.0000000  0.0000000 \n",
      "F          1.7743065  0.0000000  0.0000000 \n",
      "############################################################\n",
      "                      Current Gradient                      \n",
      "symbol     x          y          z         \n",
      "H          0.0001939  0.0000000  0.0000000 \n",
      "F          -0.0001939 0.0000000  0.0000000 \n",
      "Error in geom opt: 2.742484e-04\n",
      "############################################################\n",
      "                      GEOM OPT ITER 4                       \n",
      "                      Current Geometry                      \n",
      "symbol     x          y          z         \n",
      "H          -0.0344438 0.0000000  0.0000000 \n",
      "F          1.7744438  0.0000000  0.0000000 \n",
      "############################################################\n",
      "                      Current Gradient                      \n",
      "symbol     x          y          z         \n",
      "H          -0.0000013 0.0000000  0.0000000 \n",
      "F          0.0000013  0.0000000  0.0000000 \n",
      "Error in geom opt: 1.815262e-06\n",
      "############################################################\n",
      "                     GEOM OPT CONVERGED                     \n",
      "                     req. 4 iterations                      \n",
      "############################################################\n"
     ]
    }
   ],
   "source": [
    "SCF.geom_opt(opt_method = 'bfgs',\n",
    "             max_iter_geom=100,\n",
    "             info = 10,\n",
    "             scf_params={'max_iter' : 30,\n",
    "                         'info' : 1})"
   ]
  },
  {
   "attachments": {},
   "cell_type": "markdown",
   "id": "1d7a6087",
   "metadata": {},
   "source": [
    "Now we can check, e.g., the bond length"
   ]
  },
  {
   "cell_type": "code",
   "execution_count": 30,
   "id": "2c32ca71",
   "metadata": {},
   "outputs": [
    {
     "data": {
      "text/plain": [
       "1.8088876344335094"
      ]
     },
     "execution_count": 30,
     "metadata": {},
     "output_type": "execute_result"
    }
   ],
   "source": [
    "SCF.mol.distance(0, 1)"
   ]
  },
  {
   "cell_type": "markdown",
   "id": "a4a4b480",
   "metadata": {},
   "source": [
    "# 5. Example: Influence of number of contracted Gaussians on the geometry of water"
   ]
  },
  {
   "cell_type": "code",
   "execution_count": 38,
   "id": "3da1d6a7",
   "metadata": {},
   "outputs": [],
   "source": [
    "H1 = eduHF.Atom('H', np.array([1.7, -0.4, 0.0]))\n",
    "O1 = eduHF.Atom('O', np.array([0.0, 0.0, 0.0]))\n",
    "H2 = eduHF.Atom('H', np.array([0.0, 1.85, 0.0]))\n",
    "mol = eduHF.Molecule([H1, O1, H2], charge=0)\n",
    "\n",
    "basisset = eduHF.BasisSet(base)\n",
    "\n",
    "ngs = np.arange(1, 4)\n",
    "angles = np.zeros(0)\n",
    "bond_lengths = np.zeros(0)\n",
    "\n",
    "for ng in ngs:\n",
    "    basis = eduHF.Basis(mol, basisset, ng=ng)\n",
    "    calc = eduHF.SCF(mol, basis)\n",
    "    calc.geom_opt(opt_method = 'bfgs',\n",
    "                max_iter_geom=100,\n",
    "                info = 1,\n",
    "                scf_params={'max_iter' : 30,\n",
    "                            'info' : 1})\n",
    "    angles = np.append(angles, calc.mol.angle(0, 1, 2))\n",
    "    bond_lengths = np.append(bond_lengths, (calc.mol.distance(0, 1) + calc.mol.distance(1, 2)) / 2.0)\n",
    "\n"
   ]
  },
  {
   "cell_type": "code",
   "execution_count": 93,
   "id": "9acd56d3",
   "metadata": {},
   "outputs": [
    {
     "data": {
      "text/plain": [
       "Text(0.5, 0.98, 'Influence of n in STO-nG on the geometry of H$_2$O')"
      ]
     },
     "execution_count": 93,
     "metadata": {},
     "output_type": "execute_result"
    },
    {
     "data": {
      "image/png": "[encoded data removed]",
      "text/plain": [
       "<Figure size 1008x432 with 2 Axes>"
      ]
     },
     "metadata": {
      "needs_background": "light"
     },
     "output_type": "display_data"
    }
   ],
   "source": [
    "import matplotlib.pyplot as plt\n",
    "plt.rcParams['figure.figsize'] = [14, 6] # to make it larger in jupyter notebook\n",
    "\n",
    "fig, ax = plt.subplots(1,2)\n",
    "\n",
    "ax[0].plot(ngs, angles, 'o', label='HF calc')\n",
    "ax[0].set_xlim([np.min(ngs)-0.5, np.max(ngs)+0.5])\n",
    "ax[0].hlines(104.52, *ax[0].get_xlim(), 'orange', label='literature')\n",
    "ax[0].set_xlabel('n')\n",
    "ax[0].set_ylabel('$\\\\angle$ OHO / °')\n",
    "ax[0].set_xticks(ngs)\n",
    "ax[0].legend(loc='lower right')\n",
    "\n",
    "ax[1].plot(ngs, bond_lengths, 'o', label='HF calc')\n",
    "ax[1].set_xlim([np.min(ngs)-0.5, np.max(ngs)+0.5])\n",
    "ax[1].hlines(1.809, *ax[1].get_xlim(), 'orange', label='literature')\n",
    "ax[1].set_xlabel('n')\n",
    "ax[1].set_ylabel('$d_{\\\\mathrm{OH}}$ / $a_0$')\n",
    "ax[1].set_xticks(ngs)\n",
    "ax[1].legend()\n",
    "\n",
    "fig.suptitle('Influence of n in STO-nG on the geometry of H$_2$O')\n"
   ]
  }
 ],
 "metadata": {
  "kernelspec": {
   "display_name": "Python 3 (ipykernel)",
   "language": "python",
   "name": "python3"
  },
  "language_info": {
   "codemirror_mode": {
    "name": "ipython",
    "version": 3
   },
   "file_extension": ".py",
   "mimetype": "text/x-python",
   "name": "python",
   "nbconvert_exporter": "python",
   "pygments_lexer": "ipython3",
   "version": "3.10.6"
  }
 },
 "nbformat": 4,
 "nbformat_minor": 5
}
