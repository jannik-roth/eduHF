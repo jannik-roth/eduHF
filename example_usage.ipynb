{
 "cells": [
  {
   "cell_type": "code",
   "execution_count": 1,
   "id": "dfcf3f2c-329b-4efa-b69f-a582e71b9dbe",
   "metadata": {},
   "outputs": [],
   "source": [
    "import numpy as np\n",
    "import eduHF"
   ]
  },
  {
   "cell_type": "markdown",
   "id": "fe484975-c789-4be1-882e-3b537f67c97b",
   "metadata": {},
   "source": [
    "# 1. Define a Molecule\n",
    "\n",
    "A molecule is build out of different atoms. Atoms can be initiated by their respective atom type and the position in three-dimensional space (using atomic units of course)"
   ]
  },
  {
   "cell_type": "code",
   "execution_count": 2,
   "id": "d1087152-5b05-4e90-9871-1e6ac136430d",
   "metadata": {},
   "outputs": [],
   "source": [
    "H = eduHF.Atom('H', np.array([0.0, 0.0, 0.0]))\n",
    "F = eduHF.Atom('F', np.array([1.74, 0.0, 0.0]))"
   ]
  },
  {
   "cell_type": "markdown",
   "id": "c49765df-517b-4b6d-90b4-1369c396f62f",
   "metadata": {},
   "source": [
    "Next, we initiated the molecule with a list of all the atoms and its charge. A negative charge leads to an anion, a positive to a cation."
   ]
  },
  {
   "cell_type": "code",
   "execution_count": 3,
   "id": "3d28a6cc-7cd9-450e-a4fe-4aef062b09ef",
   "metadata": {},
   "outputs": [],
   "source": [
    "HF = eduHF.Molecule([H, F], charge=0)"
   ]
  },
  {
   "cell_type": "markdown",
   "id": "6e41744d-f6c2-4b47-89e0-b4b6bf2f5d0f",
   "metadata": {},
   "source": [
    "# 2. Define a Basis\n",
    "\n",
    "We first define a dictionary containing the atom types as keys. The items are a list of tuples. Every tuple represents a Slater Function. The tuples contain first the type of function (i.e., `1s`, or `2p`) and second the exponent (often called $\\zeta$ (zeta))"
   ]
  },
  {
   "cell_type": "code",
   "execution_count": 11,
   "id": "234e9217-ee20-4d68-b2ac-ca50943e33f7",
   "metadata": {},
   "outputs": [],
   "source": [
    "# taken from:  Robert F. Stewart, \"Small Gaussian Expansions of Slater‐Type Orbitals\", \n",
    "#              J. Chem. Phys. 52, 431-438 (1970) https://doi.org/10.1063/1.1672702 \n",
    "base = {'H' : [('1s', 1.24)],\n",
    "        'Li': [('1s', 2.69), ('2s', 0.75)],\n",
    "        'Be': [('1s', 3.68), ('2s', 1.10)],\n",
    "        'B' : [('1s', 4.68), ('2s', 1.45), ('2p', 1.45)],\n",
    "        'C' : [('1s', 5.67), ('2s', 1.72), ('2p', 1.72)],\n",
    "        'N' : [('1s', 6.67), ('2s', 1.95), ('2p', 1.95)],\n",
    "        'O' : [('1s', 7.66), ('2s', 2.25), ('2p', 2.25)],\n",
    "        'F' : [('1s', 8.65), ('2s', 2.55), ('2p', 2.55)],\n",
    "        }"
   ]
  },
  {
   "cell_type": "markdown",
   "id": "7b9c8fb2-0bf4-4ce0-bce5-42529f549a3a",
   "metadata": {},
   "source": [
    "Now we build the basis set and apply it to the molecule. Wenn initiating the `Basis` we need to state the number of Gaussian functions which expand a single Slater function (parameter `ng`)."
   ]
  },
  {
   "cell_type": "code",
   "execution_count": 5,
   "id": "5d4f0633-d2de-429d-8763-ce470ad9530a",
   "metadata": {},
   "outputs": [],
   "source": [
    "basisset = eduHF.BasisSet(base)\n",
    "basis = eduHF.Basis(HF, basisset, ng=3)"
   ]
  },
  {
   "cell_type": "markdown",
   "id": "c9cc0680-1bb7-4e82-aeaf-7c807b81ff83",
   "metadata": {},
   "source": [
    "# 3. Run the SCF\n",
    "\n",
    "Next we initate the SCF with the molecule and the basis and prepare the integrals."
   ]
  },
  {
   "cell_type": "code",
   "execution_count": 8,
   "id": "0c0fb458-3926-4408-ac70-5c97b05de849",
   "metadata": {},
   "outputs": [],
   "source": [
    "SCF = eduHF.SCF(HF, basis)\n",
    "SCF.prepare_integrals()"
   ]
  },
  {
   "cell_type": "markdown",
   "id": "8ecb5a91-c357-44d8-91d0-99fa5186ab49",
   "metadata": {},
   "source": [
    "When running the SCF, you can define the numver of max iterations, the convergence criteria and the type of convergence criteria."
   ]
  },
  {
   "cell_type": "code",
   "execution_count": 10,
   "id": "333effa4-de3c-4249-a98b-4dcd8336513d",
   "metadata": {},
   "outputs": [
    {
     "name": "stdout",
     "output_type": "stream",
     "text": [
      "############################################################\n",
      "                         SCF setup                          \n",
      "############################################################\n",
      "  max_iter -> 15\n",
      "  convergence_crit -> 1.000000e-06\n",
      "  convergence_type -> com\n",
      "                      Starting SCF now                      \n",
      "############################################################\n",
      "iteration  energy          error           converged \n",
      "0          -102.9545867877 1.4326840454    False     \n",
      "1          -103.7150808637 0.2808280996    False     \n",
      "2          -103.7284628047 0.0300696026    False     \n",
      "3          -103.7285967624 0.0041918466    False     \n",
      "4          -103.7285992109 0.0007928026    False     \n",
      "5          -103.7285993035 0.0001708333    False     \n",
      "6          -103.7285993080 0.0000381872    False     \n",
      "7          -103.7285993082 0.0000086260    False     \n",
      "8          -103.7285993083 0.0000019551    False     \n",
      "9          -103.7285993083 0.0000004436    True      \n",
      "############################################################\n",
      "                       SCF converged                        \n",
      "                     req. 9 iterations                      \n",
      "############################################################\n",
      "SCF energy    = -103.7285993083\n",
      "Nuc Repulsion = 5.1724137931\n",
      "Final Energy  = -98.5561855151\n"
     ]
    }
   ],
   "source": [
    "SCF.run_scf(max_iter=15, convergence_crit=1e-6, convergence_type='com')"
   ]
  },
  {
   "cell_type": "markdown",
   "id": "4134fec4-ca35-4a4f-bf90-9718110285e8",
   "metadata": {},
   "source": [
    "**That's it! We ran our first SCF calculation!**"
   ]
  }
 ],
 "metadata": {
  "kernelspec": {
   "display_name": "Python 3 (ipykernel)",
   "language": "python",
   "name": "python3"
  },
  "language_info": {
   "codemirror_mode": {
    "name": "ipython",
    "version": 3
   },
   "file_extension": ".py",
   "mimetype": "text/x-python",
   "name": "python",
   "nbconvert_exporter": "python",
   "pygments_lexer": "ipython3",
   "version": "3.10.6"
  }
 },
 "nbformat": 4,
 "nbformat_minor": 5
}
